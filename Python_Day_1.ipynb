{
  "nbformat": 4,
  "nbformat_minor": 0,
  "metadata": {
    "colab": {
      "name": "Python Day 1.ipynb",
      "provenance": [],
      "collapsed_sections": []
    },
    "kernelspec": {
      "name": "python3",
      "display_name": "Python 3"
    },
    "language_info": {
      "name": "python"
    }
  },
  "cells": [
    {
      "cell_type": "code",
      "metadata": {
        "id": "zW4x1iL2hBIO"
      },
      "source": [
        "A = 10"
      ],
      "execution_count": null,
      "outputs": []
    },
    {
      "cell_type": "code",
      "metadata": {
        "colab": {
          "base_uri": "https://localhost:8080/"
        },
        "id": "EfZ-dh_ihKZI",
        "outputId": "cb654f6b-9903-4fd4-e149-a0141dad81b2"
      },
      "source": [
        "type(A)"
      ],
      "execution_count": null,
      "outputs": [
        {
          "output_type": "execute_result",
          "data": {
            "text/plain": [
              "int"
            ]
          },
          "metadata": {},
          "execution_count": 2
        }
      ]
    },
    {
      "cell_type": "code",
      "metadata": {
        "id": "lkRsp0s_hDvF"
      },
      "source": [
        "B =  80.1"
      ],
      "execution_count": null,
      "outputs": []
    },
    {
      "cell_type": "code",
      "metadata": {
        "colab": {
          "base_uri": "https://localhost:8080/"
        },
        "id": "ILo8rz_ehNL5",
        "outputId": "da717202-92aa-412e-f739-4563f5758c22"
      },
      "source": [
        "type(B)"
      ],
      "execution_count": null,
      "outputs": [
        {
          "output_type": "execute_result",
          "data": {
            "text/plain": [
              "float"
            ]
          },
          "metadata": {},
          "execution_count": 4
        }
      ]
    },
    {
      "cell_type": "code",
      "metadata": {
        "id": "v4y3hYd2hOSx"
      },
      "source": [
        "c= \"India\""
      ],
      "execution_count": null,
      "outputs": []
    },
    {
      "cell_type": "code",
      "metadata": {
        "colab": {
          "base_uri": "https://localhost:8080/"
        },
        "id": "A1F_eiFshPQh",
        "outputId": "fb84e139-6c26-44c7-9e01-e8528ff69985"
      },
      "source": [
        "type(c)"
      ],
      "execution_count": null,
      "outputs": [
        {
          "output_type": "execute_result",
          "data": {
            "text/plain": [
              "str"
            ]
          },
          "metadata": {},
          "execution_count": 6
        }
      ]
    },
    {
      "cell_type": "code",
      "metadata": {
        "id": "dQPafNoyhQho"
      },
      "source": [
        "x=20\n",
        "y=30"
      ],
      "execution_count": null,
      "outputs": []
    },
    {
      "cell_type": "code",
      "metadata": {
        "colab": {
          "base_uri": "https://localhost:8080/"
        },
        "id": "EH6pgE3GhVMC",
        "outputId": "ea83b7e0-7c95-4433-b8c3-1a72ba5c070e"
      },
      "source": [
        "x+y"
      ],
      "execution_count": null,
      "outputs": [
        {
          "output_type": "execute_result",
          "data": {
            "text/plain": [
              "50"
            ]
          },
          "metadata": {},
          "execution_count": 8
        }
      ]
    },
    {
      "cell_type": "code",
      "metadata": {
        "id": "9M01U4FFhZIg"
      },
      "source": [
        "x=20\n",
        "y=30\n",
        "z= \"India\""
      ],
      "execution_count": null,
      "outputs": []
    },
    {
      "cell_type": "code",
      "metadata": {
        "colab": {
          "base_uri": "https://localhost:8080/",
          "height": 171
        },
        "id": "R4LwF96mhc3p",
        "outputId": "4d5319f0-5380-4852-c16e-657fde63d5c3"
      },
      "source": [
        "x+y+z"
      ],
      "execution_count": null,
      "outputs": [
        {
          "output_type": "error",
          "ename": "TypeError",
          "evalue": "ignored",
          "traceback": [
            "\u001b[0;31m---------------------------------------------------------------------------\u001b[0m",
            "\u001b[0;31mTypeError\u001b[0m                                 Traceback (most recent call last)",
            "\u001b[0;32m<ipython-input-10-89c25a8d585f>\u001b[0m in \u001b[0;36m<module>\u001b[0;34m()\u001b[0m\n\u001b[0;32m----> 1\u001b[0;31m \u001b[0mx\u001b[0m\u001b[0;34m+\u001b[0m\u001b[0my\u001b[0m\u001b[0;34m+\u001b[0m\u001b[0mz\u001b[0m\u001b[0;34m\u001b[0m\u001b[0;34m\u001b[0m\u001b[0m\n\u001b[0m",
            "\u001b[0;31mTypeError\u001b[0m: unsupported operand type(s) for +: 'int' and 'str'"
          ]
        }
      ]
    },
    {
      "cell_type": "code",
      "metadata": {
        "colab": {
          "base_uri": "https://localhost:8080/"
        },
        "id": "Ek5bAOcPheOo",
        "outputId": "2eff8524-ff42-4128-e9c7-47c5fe4aa0c3"
      },
      "source": [
        "x=20\n",
        "y=30\n",
        "z= 40.5\n",
        "x+y+z"
      ],
      "execution_count": null,
      "outputs": [
        {
          "output_type": "execute_result",
          "data": {
            "text/plain": [
              "90.5"
            ]
          },
          "metadata": {},
          "execution_count": 11
        }
      ]
    },
    {
      "cell_type": "code",
      "metadata": {
        "colab": {
          "base_uri": "https://localhost:8080/",
          "height": 36
        },
        "id": "dTT7YYnlhhOB",
        "outputId": "53c26a84-91ab-4411-85e8-15e8215f501c"
      },
      "source": [
        "x=\"India\"\n",
        "y=\"won\"\n",
        "z= \"the match\"\n",
        "x+y+z"
      ],
      "execution_count": null,
      "outputs": [
        {
          "output_type": "execute_result",
          "data": {
            "application/vnd.google.colaboratory.intrinsic+json": {
              "type": "string"
            },
            "text/plain": [
              "'Indiawonthe match'"
            ]
          },
          "metadata": {},
          "execution_count": 12
        }
      ]
    },
    {
      "cell_type": "code",
      "metadata": {
        "colab": {
          "base_uri": "https://localhost:8080/",
          "height": 36
        },
        "id": "cBuBrDGzhz5A",
        "outputId": "4fc003d1-bbc8-425e-a46c-de4fcb410192"
      },
      "source": [
        "x+\" \"+y+\" \"+z"
      ],
      "execution_count": null,
      "outputs": [
        {
          "output_type": "execute_result",
          "data": {
            "application/vnd.google.colaboratory.intrinsic+json": {
              "type": "string"
            },
            "text/plain": [
              "'India won the match'"
            ]
          },
          "metadata": {},
          "execution_count": 13
        }
      ]
    },
    {
      "cell_type": "code",
      "metadata": {
        "id": "b76LKfHnh7CG"
      },
      "source": [
        "x=\"india is my country\""
      ],
      "execution_count": null,
      "outputs": []
    },
    {
      "cell_type": "code",
      "metadata": {
        "colab": {
          "base_uri": "https://localhost:8080/",
          "height": 36
        },
        "id": "lYdo_mUEiBNP",
        "outputId": "40088bec-d778-40cb-d971-593ceaabf0b8"
      },
      "source": [
        "x[0]"
      ],
      "execution_count": null,
      "outputs": [
        {
          "output_type": "execute_result",
          "data": {
            "application/vnd.google.colaboratory.intrinsic+json": {
              "type": "string"
            },
            "text/plain": [
              "'i'"
            ]
          },
          "metadata": {},
          "execution_count": 15
        }
      ]
    },
    {
      "cell_type": "code",
      "metadata": {
        "colab": {
          "base_uri": "https://localhost:8080/",
          "height": 36
        },
        "id": "X0vt445ZiF4-",
        "outputId": "1aecfd41-0870-4141-b710-7485b35f357a"
      },
      "source": [
        "x[1]"
      ],
      "execution_count": null,
      "outputs": [
        {
          "output_type": "execute_result",
          "data": {
            "application/vnd.google.colaboratory.intrinsic+json": {
              "type": "string"
            },
            "text/plain": [
              "'n'"
            ]
          },
          "metadata": {},
          "execution_count": 16
        }
      ]
    },
    {
      "cell_type": "code",
      "metadata": {
        "colab": {
          "base_uri": "https://localhost:8080/",
          "height": 36
        },
        "id": "vDS98ZcriJxQ",
        "outputId": "a0a0cf43-022f-4457-bf4c-1b5367c14aff"
      },
      "source": [
        "x[0:3]"
      ],
      "execution_count": null,
      "outputs": [
        {
          "output_type": "execute_result",
          "data": {
            "application/vnd.google.colaboratory.intrinsic+json": {
              "type": "string"
            },
            "text/plain": [
              "'ind'"
            ]
          },
          "metadata": {},
          "execution_count": 17
        }
      ]
    },
    {
      "cell_type": "code",
      "metadata": {
        "colab": {
          "base_uri": "https://localhost:8080/",
          "height": 36
        },
        "id": "d8Awr0-3iNZB",
        "outputId": "0aa856a8-d717-42dc-9078-45eb6697a6a3"
      },
      "source": [
        "x[-1]"
      ],
      "execution_count": null,
      "outputs": [
        {
          "output_type": "execute_result",
          "data": {
            "application/vnd.google.colaboratory.intrinsic+json": {
              "type": "string"
            },
            "text/plain": [
              "'y'"
            ]
          },
          "metadata": {},
          "execution_count": 18
        }
      ]
    },
    {
      "cell_type": "code",
      "metadata": {
        "colab": {
          "base_uri": "https://localhost:8080/",
          "height": 36
        },
        "id": "chWbqwyXiSkl",
        "outputId": "882daca9-ddcd-4b4b-d7ad-ee9f6645b458"
      },
      "source": [
        "x[-2]"
      ],
      "execution_count": null,
      "outputs": [
        {
          "output_type": "execute_result",
          "data": {
            "application/vnd.google.colaboratory.intrinsic+json": {
              "type": "string"
            },
            "text/plain": [
              "'r'"
            ]
          },
          "metadata": {},
          "execution_count": 19
        }
      ]
    },
    {
      "cell_type": "code",
      "metadata": {
        "id": "bNEARBdZiUZC"
      },
      "source": [
        "x=[1,2,3,4,5,6]"
      ],
      "execution_count": null,
      "outputs": []
    },
    {
      "cell_type": "code",
      "metadata": {
        "colab": {
          "base_uri": "https://localhost:8080/"
        },
        "id": "Zl043BxUioaI",
        "outputId": "978caf86-bdcf-4057-ccc4-21616af0ac1f"
      },
      "source": [
        "x[0]"
      ],
      "execution_count": null,
      "outputs": [
        {
          "output_type": "execute_result",
          "data": {
            "text/plain": [
              "1"
            ]
          },
          "metadata": {},
          "execution_count": 21
        }
      ]
    },
    {
      "cell_type": "code",
      "metadata": {
        "colab": {
          "base_uri": "https://localhost:8080/"
        },
        "id": "50rnEexJiqqJ",
        "outputId": "3294a158-fb84-44b2-9408-3311a6ac6d74"
      },
      "source": [
        "x[1]"
      ],
      "execution_count": null,
      "outputs": [
        {
          "output_type": "execute_result",
          "data": {
            "text/plain": [
              "2"
            ]
          },
          "metadata": {},
          "execution_count": 22
        }
      ]
    },
    {
      "cell_type": "code",
      "metadata": {
        "colab": {
          "base_uri": "https://localhost:8080/"
        },
        "id": "XaadkZkzir44",
        "outputId": "063742e5-a992-4a14-810c-4811fc1fa5b6"
      },
      "source": [
        "x[0:3]"
      ],
      "execution_count": null,
      "outputs": [
        {
          "output_type": "execute_result",
          "data": {
            "text/plain": [
              "[1, 2, 3]"
            ]
          },
          "metadata": {},
          "execution_count": 23
        }
      ]
    },
    {
      "cell_type": "code",
      "metadata": {
        "colab": {
          "base_uri": "https://localhost:8080/"
        },
        "id": "YphfP3tUitZQ",
        "outputId": "6a2e06fc-3d44-43b8-951f-59229ab67afd"
      },
      "source": [
        "x[-1]"
      ],
      "execution_count": null,
      "outputs": [
        {
          "output_type": "execute_result",
          "data": {
            "text/plain": [
              "6"
            ]
          },
          "metadata": {},
          "execution_count": 24
        }
      ]
    },
    {
      "cell_type": "code",
      "metadata": {
        "id": "eksn3BZjiuqh"
      },
      "source": [
        "x=['abcd', 100, 2.23, 'john', 70.2, 123, 'john']"
      ],
      "execution_count": null,
      "outputs": []
    },
    {
      "cell_type": "code",
      "metadata": {
        "colab": {
          "base_uri": "https://localhost:8080/"
        },
        "id": "v8lpAzCXi3rF",
        "outputId": "ecdaad9b-7854-4d07-cb03-6880d3675f26"
      },
      "source": [
        "len(x)"
      ],
      "execution_count": null,
      "outputs": [
        {
          "output_type": "execute_result",
          "data": {
            "text/plain": [
              "7"
            ]
          },
          "metadata": {},
          "execution_count": 26
        }
      ]
    },
    {
      "cell_type": "code",
      "metadata": {
        "id": "JsKrlJ9ci_4v"
      },
      "source": [
        "x.append(\"Adam\")"
      ],
      "execution_count": null,
      "outputs": []
    },
    {
      "cell_type": "code",
      "metadata": {
        "colab": {
          "base_uri": "https://localhost:8080/"
        },
        "id": "NLCxs1BwjDsD",
        "outputId": "666a1834-630b-40b9-c0e7-5039bc2a018a"
      },
      "source": [
        "x"
      ],
      "execution_count": null,
      "outputs": [
        {
          "output_type": "execute_result",
          "data": {
            "text/plain": [
              "['abcd', 100, 2.23, 'john', 70.2, 123, 'john', 'Adam']"
            ]
          },
          "metadata": {},
          "execution_count": 28
        }
      ]
    },
    {
      "cell_type": "code",
      "metadata": {
        "colab": {
          "base_uri": "https://localhost:8080/"
        },
        "id": "_wSSdeosjEQn",
        "outputId": "9af0d01d-37db-4477-ec0f-18d592ccb5aa"
      },
      "source": [
        "type(x)"
      ],
      "execution_count": null,
      "outputs": [
        {
          "output_type": "execute_result",
          "data": {
            "text/plain": [
              "list"
            ]
          },
          "metadata": {},
          "execution_count": 29
        }
      ]
    },
    {
      "cell_type": "code",
      "metadata": {
        "colab": {
          "base_uri": "https://localhost:8080/"
        },
        "id": "NM9bqCUpjbar",
        "outputId": "b6b53e41-f595-4325-e87a-747cc6159e50"
      },
      "source": [
        "x.clear()\n",
        "x"
      ],
      "execution_count": null,
      "outputs": [
        {
          "output_type": "execute_result",
          "data": {
            "text/plain": [
              "[]"
            ]
          },
          "metadata": {},
          "execution_count": 30
        }
      ]
    },
    {
      "cell_type": "code",
      "metadata": {
        "id": "UJLSRsd9j8PU"
      },
      "source": [
        "x=['abcd', 100, 2.23, 'john', 70.2, 123, 'john']"
      ],
      "execution_count": null,
      "outputs": []
    },
    {
      "cell_type": "code",
      "metadata": {
        "colab": {
          "base_uri": "https://localhost:8080/"
        },
        "id": "Z82eBycykENY",
        "outputId": "6ae69ea6-5002-402b-d133-99c7562f8028"
      },
      "source": [
        "c=x.copy()\n",
        "c"
      ],
      "execution_count": null,
      "outputs": [
        {
          "output_type": "execute_result",
          "data": {
            "text/plain": [
              "['abcd', 100, 2.23, 'john', 70.2, 123, 'john']"
            ]
          },
          "metadata": {},
          "execution_count": 32
        }
      ]
    },
    {
      "cell_type": "code",
      "metadata": {
        "colab": {
          "base_uri": "https://localhost:8080/"
        },
        "id": "M0DnKbEOkNAf",
        "outputId": "fe03738a-b4cf-43fc-99cb-899ba4108c51"
      },
      "source": [
        "x.count(\"john\")"
      ],
      "execution_count": null,
      "outputs": [
        {
          "output_type": "execute_result",
          "data": {
            "text/plain": [
              "2"
            ]
          },
          "metadata": {},
          "execution_count": 33
        }
      ]
    },
    {
      "cell_type": "code",
      "metadata": {
        "colab": {
          "base_uri": "https://localhost:8080/"
        },
        "id": "Wd7DQKmdkRAn",
        "outputId": "8a157efd-0017-44d0-b63f-5e95a4ddeaca"
      },
      "source": [
        "x.extend(\"India\")\n",
        "x"
      ],
      "execution_count": null,
      "outputs": [
        {
          "output_type": "execute_result",
          "data": {
            "text/plain": [
              "['abcd', 100, 2.23, 'john', 70.2, 123, 'john', 'I', 'n', 'd', 'i', 'a']"
            ]
          },
          "metadata": {},
          "execution_count": 34
        }
      ]
    },
    {
      "cell_type": "code",
      "metadata": {
        "colab": {
          "base_uri": "https://localhost:8080/"
        },
        "id": "MZQoMUtVkcQi",
        "outputId": "e5a259cc-465d-43d8-9e12-4ebc6d46bc65"
      },
      "source": [
        "x=['abcd', 100, 2.23, 'john', 70.2, 123, 'john']\n",
        "x.insert(6,\"India\")\n",
        "x"
      ],
      "execution_count": null,
      "outputs": [
        {
          "output_type": "execute_result",
          "data": {
            "text/plain": [
              "['abcd', 100, 2.23, 'john', 70.2, 123, 'India', 'john']"
            ]
          },
          "metadata": {},
          "execution_count": 41
        }
      ]
    },
    {
      "cell_type": "code",
      "metadata": {
        "id": "HpjiGcESknRs",
        "colab": {
          "base_uri": "https://localhost:8080/"
        },
        "outputId": "d6dd1de4-3435-433e-a905-ea28b495a707"
      },
      "source": [
        "x.remove(100)\n",
        "x"
      ],
      "execution_count": null,
      "outputs": [
        {
          "output_type": "execute_result",
          "data": {
            "text/plain": [
              "['abcd', 2.23, 'john', 70.2, 123, 'India', 'john']"
            ]
          },
          "metadata": {},
          "execution_count": 43
        }
      ]
    },
    {
      "cell_type": "code",
      "metadata": {
        "id": "reNleH5jk74v",
        "colab": {
          "base_uri": "https://localhost:8080/",
          "height": 36
        },
        "outputId": "b2a7d126-03d7-4c70-a046-fd224c3b3b56"
      },
      "source": [
        "x=[\"Happy\", [2, 0, 1, 5]]\n",
        "x[0][1]"
      ],
      "execution_count": null,
      "outputs": [
        {
          "output_type": "execute_result",
          "data": {
            "application/vnd.google.colaboratory.intrinsic+json": {
              "type": "string"
            },
            "text/plain": [
              "'a'"
            ]
          },
          "metadata": {},
          "execution_count": 45
        }
      ]
    },
    {
      "cell_type": "code",
      "metadata": {
        "colab": {
          "base_uri": "https://localhost:8080/"
        },
        "id": "4Gp7PdoWr1gs",
        "outputId": "2285110c-f2cf-408a-8565-dea5b92b385b"
      },
      "source": [
        "x[1][3]"
      ],
      "execution_count": null,
      "outputs": [
        {
          "output_type": "execute_result",
          "data": {
            "text/plain": [
              "5"
            ]
          },
          "metadata": {},
          "execution_count": 46
        }
      ]
    },
    {
      "cell_type": "code",
      "metadata": {
        "colab": {
          "base_uri": "https://localhost:8080/"
        },
        "id": "1tLsmPN50Myo",
        "outputId": "5d3121e1-02f7-4bad-f9c5-5c066ad427b9"
      },
      "source": [
        "x=[1,2,3,4,5,6,7,8,9,10]\n",
        "max(x)"
      ],
      "execution_count": null,
      "outputs": [
        {
          "output_type": "execute_result",
          "data": {
            "text/plain": [
              "10"
            ]
          },
          "metadata": {},
          "execution_count": 114
        }
      ]
    },
    {
      "cell_type": "code",
      "metadata": {
        "colab": {
          "base_uri": "https://localhost:8080/"
        },
        "id": "iRkH_4cq0Pny",
        "outputId": "ad109dc2-de97-45b7-9caa-f469c4b7a585"
      },
      "source": [
        "x=[1,2,3,4,5,6,7,8,9,10]\n",
        "min(x)"
      ],
      "execution_count": null,
      "outputs": [
        {
          "output_type": "execute_result",
          "data": {
            "text/plain": [
              "1"
            ]
          },
          "metadata": {},
          "execution_count": 115
        }
      ]
    },
    {
      "cell_type": "code",
      "metadata": {
        "colab": {
          "base_uri": "https://localhost:8080/"
        },
        "id": "VHKKFi-zsgVY",
        "outputId": "b770bfbc-4127-4bdc-8670-510f9c6bcb8e"
      },
      "source": [
        "x=[1,2,3,4,5,6,7,8,9,10]\n",
        "for i in x :\n",
        "  print(i)"
      ],
      "execution_count": null,
      "outputs": [
        {
          "output_type": "stream",
          "name": "stdout",
          "text": [
            "1\n",
            "2\n",
            "3\n",
            "4\n",
            "5\n",
            "6\n",
            "7\n",
            "8\n",
            "9\n",
            "10\n"
          ]
        }
      ]
    },
    {
      "cell_type": "code",
      "metadata": {
        "colab": {
          "base_uri": "https://localhost:8080/"
        },
        "id": "y95JdIk4syxC",
        "outputId": "7cfd12f9-a25e-4013-f801-e29f3b051056"
      },
      "source": [
        "x=[1,2,3,4,5,6,7,8,9,10]\n",
        "sum=0\n",
        "for i in x :\n",
        "  sum=sum+i\n",
        "  print(sum)"
      ],
      "execution_count": null,
      "outputs": [
        {
          "output_type": "stream",
          "name": "stdout",
          "text": [
            "1\n",
            "3\n",
            "6\n",
            "10\n",
            "15\n",
            "21\n",
            "28\n",
            "36\n",
            "45\n",
            "55\n"
          ]
        }
      ]
    },
    {
      "cell_type": "code",
      "metadata": {
        "colab": {
          "base_uri": "https://localhost:8080/"
        },
        "id": "bwPrCWsQs_MX",
        "outputId": "02585ef3-a8c5-4a47-fec1-71a3bbf0e570"
      },
      "source": [
        "x=range(0,100)\n",
        "sum=0\n",
        "for i in x :\n",
        "  sum=sum+i\n",
        "  print(sum)"
      ],
      "execution_count": null,
      "outputs": [
        {
          "output_type": "stream",
          "name": "stdout",
          "text": [
            "0\n",
            "1\n",
            "3\n",
            "6\n",
            "10\n",
            "15\n",
            "21\n",
            "28\n",
            "36\n",
            "45\n",
            "55\n",
            "66\n",
            "78\n",
            "91\n",
            "105\n",
            "120\n",
            "136\n",
            "153\n",
            "171\n",
            "190\n",
            "210\n",
            "231\n",
            "253\n",
            "276\n",
            "300\n",
            "325\n",
            "351\n",
            "378\n",
            "406\n",
            "435\n",
            "465\n",
            "496\n",
            "528\n",
            "561\n",
            "595\n",
            "630\n",
            "666\n",
            "703\n",
            "741\n",
            "780\n",
            "820\n",
            "861\n",
            "903\n",
            "946\n",
            "990\n",
            "1035\n",
            "1081\n",
            "1128\n",
            "1176\n",
            "1225\n",
            "1275\n",
            "1326\n",
            "1378\n",
            "1431\n",
            "1485\n",
            "1540\n",
            "1596\n",
            "1653\n",
            "1711\n",
            "1770\n",
            "1830\n",
            "1891\n",
            "1953\n",
            "2016\n",
            "2080\n",
            "2145\n",
            "2211\n",
            "2278\n",
            "2346\n",
            "2415\n",
            "2485\n",
            "2556\n",
            "2628\n",
            "2701\n",
            "2775\n",
            "2850\n",
            "2926\n",
            "3003\n",
            "3081\n",
            "3160\n",
            "3240\n",
            "3321\n",
            "3403\n",
            "3486\n",
            "3570\n",
            "3655\n",
            "3741\n",
            "3828\n",
            "3916\n",
            "4005\n",
            "4095\n",
            "4186\n",
            "4278\n",
            "4371\n",
            "4465\n",
            "4560\n",
            "4656\n",
            "4753\n",
            "4851\n",
            "4950\n"
          ]
        }
      ]
    },
    {
      "cell_type": "code",
      "metadata": {
        "colab": {
          "base_uri": "https://localhost:8080/"
        },
        "id": "DzfshYmCtHQG",
        "outputId": "d52912ca-fb1c-40d3-ede7-5e6ec00efa43"
      },
      "source": [
        "i = 0\n",
        "while i < 100:\n",
        "  print(i)\n",
        "  i = i + 1"
      ],
      "execution_count": null,
      "outputs": [
        {
          "output_type": "stream",
          "name": "stdout",
          "text": [
            "0\n",
            "1\n",
            "2\n",
            "3\n",
            "4\n",
            "5\n",
            "6\n",
            "7\n",
            "8\n",
            "9\n",
            "10\n",
            "11\n",
            "12\n",
            "13\n",
            "14\n",
            "15\n",
            "16\n",
            "17\n",
            "18\n",
            "19\n",
            "20\n",
            "21\n",
            "22\n",
            "23\n",
            "24\n",
            "25\n",
            "26\n",
            "27\n",
            "28\n",
            "29\n",
            "30\n",
            "31\n",
            "32\n",
            "33\n",
            "34\n",
            "35\n",
            "36\n",
            "37\n",
            "38\n",
            "39\n",
            "40\n",
            "41\n",
            "42\n",
            "43\n",
            "44\n",
            "45\n",
            "46\n",
            "47\n",
            "48\n",
            "49\n",
            "50\n",
            "51\n",
            "52\n",
            "53\n",
            "54\n",
            "55\n",
            "56\n",
            "57\n",
            "58\n",
            "59\n",
            "60\n",
            "61\n",
            "62\n",
            "63\n",
            "64\n",
            "65\n",
            "66\n",
            "67\n",
            "68\n",
            "69\n",
            "70\n",
            "71\n",
            "72\n",
            "73\n",
            "74\n",
            "75\n",
            "76\n",
            "77\n",
            "78\n",
            "79\n",
            "80\n",
            "81\n",
            "82\n",
            "83\n",
            "84\n",
            "85\n",
            "86\n",
            "87\n",
            "88\n",
            "89\n",
            "90\n",
            "91\n",
            "92\n",
            "93\n",
            "94\n",
            "95\n",
            "96\n",
            "97\n",
            "98\n",
            "99\n"
          ]
        }
      ]
    },
    {
      "cell_type": "code",
      "metadata": {
        "colab": {
          "base_uri": "https://localhost:8080/"
        },
        "id": "Wnk3pEbYtgYX",
        "outputId": "1797e6d4-6a51-4aba-8a31-a9b207a9a02b"
      },
      "source": [
        "i = 0\n",
        "sum=0\n",
        "while i < 100:\n",
        "  sum=sum+i \n",
        "  i = i + 1\n",
        "print(sum)"
      ],
      "execution_count": null,
      "outputs": [
        {
          "output_type": "stream",
          "name": "stdout",
          "text": [
            "4950\n"
          ]
        }
      ]
    },
    {
      "cell_type": "code",
      "metadata": {
        "colab": {
          "base_uri": "https://localhost:8080/"
        },
        "id": "fgojqMsvtxJ_",
        "outputId": "a27c10d1-c1e5-4a25-b49d-1cafb8f446d9"
      },
      "source": [
        "import random\n",
        "x= random.sample(range(0, 20), 10)\n",
        "x"
      ],
      "execution_count": null,
      "outputs": [
        {
          "output_type": "execute_result",
          "data": {
            "text/plain": [
              "[5, 12, 16, 1, 15, 9, 14, 7, 3, 6]"
            ]
          },
          "metadata": {},
          "execution_count": 117
        }
      ]
    },
    {
      "cell_type": "code",
      "metadata": {
        "colab": {
          "base_uri": "https://localhost:8080/"
        },
        "id": "40eCjaJQ1d1j",
        "outputId": "cdd84a12-447e-4a11-daba-9afbf9ba3d40"
      },
      "source": [
        "random.randrange(100, 500)"
      ],
      "execution_count": null,
      "outputs": [
        {
          "output_type": "execute_result",
          "data": {
            "text/plain": [
              "193"
            ]
          },
          "metadata": {},
          "execution_count": 121
        }
      ]
    },
    {
      "cell_type": "code",
      "metadata": {
        "id": "L1bD-8ZgwHOn"
      },
      "source": [
        "x\n",
        "x.reverse()"
      ],
      "execution_count": null,
      "outputs": []
    },
    {
      "cell_type": "code",
      "metadata": {
        "colab": {
          "base_uri": "https://localhost:8080/"
        },
        "id": "j83DKb0Ougmn",
        "outputId": "43339948-50db-40f8-dabe-f1cd2c3182e1"
      },
      "source": [
        "x.sort()\n",
        "x"
      ],
      "execution_count": null,
      "outputs": [
        {
          "output_type": "execute_result",
          "data": {
            "text/plain": [
              "[1, 2, 4, 7, 10, 11, 12, 14, 15, 16]"
            ]
          },
          "metadata": {},
          "execution_count": 61
        }
      ]
    },
    {
      "cell_type": "code",
      "metadata": {
        "colab": {
          "base_uri": "https://localhost:8080/"
        },
        "id": "Zzgu2xKUur6k",
        "outputId": "c7e13cd2-30f6-44ff-bc62-ecf19c00775a"
      },
      "source": [
        "x = (1, 2, 'hi')\n",
        "x"
      ],
      "execution_count": null,
      "outputs": [
        {
          "output_type": "execute_result",
          "data": {
            "text/plain": [
              "(1, 2, 'hi')"
            ]
          },
          "metadata": {},
          "execution_count": 63
        }
      ]
    },
    {
      "cell_type": "code",
      "metadata": {
        "colab": {
          "base_uri": "https://localhost:8080/"
        },
        "id": "plaEFn7JuyDK",
        "outputId": "b1886d18-8140-4097-8e01-661e19a7949f"
      },
      "source": [
        "x ={'a':1, 'b':3, 'c':6, 'd':4}\n",
        "x[\"a\"]"
      ],
      "execution_count": null,
      "outputs": [
        {
          "output_type": "execute_result",
          "data": {
            "text/plain": [
              "1"
            ]
          },
          "metadata": {},
          "execution_count": 66
        }
      ]
    },
    {
      "cell_type": "code",
      "metadata": {
        "colab": {
          "base_uri": "https://localhost:8080/"
        },
        "id": "cwHRp7_CvCsM",
        "outputId": "d7447249-9d1e-42ba-e06d-2dbd2761bfac"
      },
      "source": [
        "x ={'a':1, 'b':3, 'c':6, 'd':4}\n",
        "x[\"c\"]"
      ],
      "execution_count": null,
      "outputs": [
        {
          "output_type": "execute_result",
          "data": {
            "text/plain": [
              "6"
            ]
          },
          "metadata": {},
          "execution_count": 67
        }
      ]
    },
    {
      "cell_type": "code",
      "metadata": {
        "colab": {
          "base_uri": "https://localhost:8080/"
        },
        "id": "GuG0ZAnivhQX",
        "outputId": "ffc5c928-2728-4c4f-bd02-36b756c9d90f"
      },
      "source": [
        "x ={'a':1, 'b':3, 'c':6, 'd':4}\n",
        "x[\"c\"]=10\n",
        "x"
      ],
      "execution_count": null,
      "outputs": [
        {
          "output_type": "execute_result",
          "data": {
            "text/plain": [
              "{'a': 1, 'b': 3, 'c': 10, 'd': 4}"
            ]
          },
          "metadata": {},
          "execution_count": 85
        }
      ]
    },
    {
      "cell_type": "code",
      "metadata": {
        "colab": {
          "base_uri": "https://localhost:8080/"
        },
        "id": "0uw_4t1HxLDA",
        "outputId": "9c91dcda-3cb3-4e47-c2de-18dd9093ce59"
      },
      "source": [
        "x.get(\"a\")"
      ],
      "execution_count": null,
      "outputs": [
        {
          "output_type": "execute_result",
          "data": {
            "text/plain": [
              "1"
            ]
          },
          "metadata": {},
          "execution_count": 89
        }
      ]
    },
    {
      "cell_type": "code",
      "metadata": {
        "colab": {
          "base_uri": "https://localhost:8080/"
        },
        "id": "PcdPvidgw1Hy",
        "outputId": "4920d5ae-3b61-47a5-8d7b-ad3e0110dbae"
      },
      "source": [
        "x.keys()"
      ],
      "execution_count": null,
      "outputs": [
        {
          "output_type": "execute_result",
          "data": {
            "text/plain": [
              "dict_keys(['a', 'b', 'c', 'd'])"
            ]
          },
          "metadata": {},
          "execution_count": 86
        }
      ]
    },
    {
      "cell_type": "code",
      "metadata": {
        "colab": {
          "base_uri": "https://localhost:8080/"
        },
        "id": "JWB0WZ_zxHzt",
        "outputId": "949b95b7-67e7-42ba-d42e-b2ecbe87ee18"
      },
      "source": [
        "x.items()"
      ],
      "execution_count": null,
      "outputs": [
        {
          "output_type": "execute_result",
          "data": {
            "text/plain": [
              "dict_items([('a', 1), ('b', 3), ('c', 10), ('d', 4)])"
            ]
          },
          "metadata": {},
          "execution_count": 88
        }
      ]
    },
    {
      "cell_type": "code",
      "metadata": {
        "colab": {
          "base_uri": "https://localhost:8080/"
        },
        "id": "KfST2Zd6xRnw",
        "outputId": "d99ac8e1-4518-4cc4-89ed-434b757aa089"
      },
      "source": [
        "x.values()"
      ],
      "execution_count": null,
      "outputs": [
        {
          "output_type": "execute_result",
          "data": {
            "text/plain": [
              "dict_values([1, 3, 10, 4])"
            ]
          },
          "metadata": {},
          "execution_count": 90
        }
      ]
    },
    {
      "cell_type": "code",
      "metadata": {
        "colab": {
          "base_uri": "https://localhost:8080/"
        },
        "id": "yFUxz_wbvl1X",
        "outputId": "49860854-4e6c-4d5d-dc42-a78abcd153fa"
      },
      "source": [
        "x = [1, 2, 4, 7, 10, 11, 12, 14, 15, 16]\n",
        "x[0]=100\n",
        "x"
      ],
      "execution_count": null,
      "outputs": [
        {
          "output_type": "execute_result",
          "data": {
            "text/plain": [
              "[100, 2, 4, 7, 10, 11, 12, 14, 15, 16]"
            ]
          },
          "metadata": {},
          "execution_count": 81
        }
      ]
    },
    {
      "cell_type": "code",
      "metadata": {
        "colab": {
          "base_uri": "https://localhost:8080/"
        },
        "id": "d1PoAjXCwMcl",
        "outputId": "5ea152ae-0bb3-47a1-822b-a5c76c7905f7"
      },
      "source": [
        "x={100, 2, 4, 7, 10, 11, 12, 14, 15, 16}\n",
        "x"
      ],
      "execution_count": null,
      "outputs": [
        {
          "output_type": "execute_result",
          "data": {
            "text/plain": [
              "{2, 4, 7, 10, 11, 12, 14, 15, 16, 100}"
            ]
          },
          "metadata": {},
          "execution_count": 92
        }
      ]
    },
    {
      "cell_type": "code",
      "metadata": {
        "colab": {
          "base_uri": "https://localhost:8080/"
        },
        "id": "t44z1vY9wx-F",
        "outputId": "96d187e2-fade-4a4b-ad91-a77d8f38bf98"
      },
      "source": [
        "x={100, 2, 4, 7, 10, 11, 12, 14, 15, 16,12}\n",
        "x"
      ],
      "execution_count": null,
      "outputs": [
        {
          "output_type": "execute_result",
          "data": {
            "text/plain": [
              "{2, 4, 7, 10, 11, 12, 14, 15, 16, 100}"
            ]
          },
          "metadata": {},
          "execution_count": 93
        }
      ]
    },
    {
      "cell_type": "code",
      "metadata": {
        "colab": {
          "base_uri": "https://localhost:8080/"
        },
        "id": "PTSoxdFyyDJp",
        "outputId": "6e10f772-a22c-48d5-c206-4abbc6b9fbcd"
      },
      "source": [
        "x = 100\n",
        "if ( x == 100 ) :\n",
        "  print(x)"
      ],
      "execution_count": null,
      "outputs": [
        {
          "output_type": "stream",
          "name": "stdout",
          "text": [
            "100\n"
          ]
        }
      ]
    },
    {
      "cell_type": "code",
      "metadata": {
        "colab": {
          "base_uri": "https://localhost:8080/"
        },
        "id": "sUBp9hgkyPgi",
        "outputId": "1e0bb754-d79f-43b1-9063-5d18368fbfbe"
      },
      "source": [
        "x=input(\"Enter something !\")\n",
        "print(x)"
      ],
      "execution_count": null,
      "outputs": [
        {
          "output_type": "stream",
          "name": "stdout",
          "text": [
            "Enter something !100\n",
            "100\n"
          ]
        }
      ]
    },
    {
      "cell_type": "code",
      "metadata": {
        "colab": {
          "base_uri": "https://localhost:8080/"
        },
        "id": "sEjlA55XzIQ0",
        "outputId": "38e7a11d-05e0-4877-c1c4-49522c65e5af"
      },
      "source": [
        "x=input(\"Enter first number\")"
      ],
      "execution_count": null,
      "outputs": [
        {
          "name": "stdout",
          "output_type": "stream",
          "text": [
            "Enter first number10\n"
          ]
        }
      ]
    },
    {
      "cell_type": "code",
      "metadata": {
        "colab": {
          "base_uri": "https://localhost:8080/"
        },
        "id": "r24sg0TCzYGz",
        "outputId": "f69b2b3b-2f25-453e-fcc3-7b66853cc47a"
      },
      "source": [
        "y=input(\"Enter first number\")"
      ],
      "execution_count": null,
      "outputs": [
        {
          "name": "stdout",
          "output_type": "stream",
          "text": [
            "Enter first number20\n"
          ]
        }
      ]
    },
    {
      "cell_type": "code",
      "metadata": {
        "colab": {
          "base_uri": "https://localhost:8080/",
          "height": 36
        },
        "id": "jptv62rYzasW",
        "outputId": "83d7e4f8-bd5a-458d-e8b0-84c380a1fca7"
      },
      "source": [
        "x+y"
      ],
      "execution_count": null,
      "outputs": [
        {
          "output_type": "execute_result",
          "data": {
            "application/vnd.google.colaboratory.intrinsic+json": {
              "type": "string"
            },
            "text/plain": [
              "'1020'"
            ]
          },
          "metadata": {},
          "execution_count": 108
        }
      ]
    },
    {
      "cell_type": "code",
      "metadata": {
        "colab": {
          "base_uri": "https://localhost:8080/"
        },
        "id": "4rfFASy1zgUt",
        "outputId": "3391bf61-442d-471a-fb5f-6e6bb1046d4d"
      },
      "source": [
        "type(x)"
      ],
      "execution_count": null,
      "outputs": [
        {
          "output_type": "execute_result",
          "data": {
            "text/plain": [
              "str"
            ]
          },
          "metadata": {},
          "execution_count": 109
        }
      ]
    },
    {
      "cell_type": "code",
      "metadata": {
        "colab": {
          "base_uri": "https://localhost:8080/"
        },
        "id": "I_g5ry6Dzjkb",
        "outputId": "1247d06a-69aa-4ca9-8c5a-39b7df3da0a3"
      },
      "source": [
        "x=input(\"Enter first number\")\n",
        "y=input(\"Enter first number\")"
      ],
      "execution_count": null,
      "outputs": [
        {
          "name": "stdout",
          "output_type": "stream",
          "text": [
            "Enter first number10\n",
            "Enter first number20\n"
          ]
        }
      ]
    },
    {
      "cell_type": "code",
      "metadata": {
        "colab": {
          "base_uri": "https://localhost:8080/"
        },
        "id": "nC3jSQYazq-m",
        "outputId": "aa45e515-e8fe-426a-8c5c-d8c937ff95d6"
      },
      "source": [
        "int(x)+int(y)"
      ],
      "execution_count": null,
      "outputs": [
        {
          "output_type": "execute_result",
          "data": {
            "text/plain": [
              "30"
            ]
          },
          "metadata": {},
          "execution_count": 111
        }
      ]
    },
    {
      "cell_type": "code",
      "metadata": {
        "colab": {
          "base_uri": "https://localhost:8080/"
        },
        "id": "20Aoen4UykhR",
        "outputId": "b698b7cc-831a-403f-a1f7-44ae242f9c8e"
      },
      "source": [
        "x = input(\"Enter something !\")\n",
        "x=int(x)\n",
        "if ( x == 10 ) :\n",
        "  print(\"X=10\")\n",
        "if (x <10):\n",
        "  print(\"X<10\")\n",
        "if (x >10):\n",
        "  print(\"X>10\")\n"
      ],
      "execution_count": null,
      "outputs": [
        {
          "output_type": "stream",
          "name": "stdout",
          "text": [
            "Enter something !50\n",
            "X>10\n"
          ]
        }
      ]
    },
    {
      "cell_type": "code",
      "metadata": {
        "id": "h0IsPXoiy02f"
      },
      "source": [
        "n=[5, 12, 16, 1, 15, 9, 14, 7, 3, 6]"
      ],
      "execution_count": null,
      "outputs": []
    },
    {
      "cell_type": "code",
      "metadata": {
        "id": "5Tluwd_Y1b0K"
      },
      "source": [
        "import statistics as st"
      ],
      "execution_count": null,
      "outputs": []
    },
    {
      "cell_type": "code",
      "metadata": {
        "colab": {
          "base_uri": "https://localhost:8080/"
        },
        "id": "oL4mOEtv180G",
        "outputId": "8da9122f-20b7-4976-acc5-6fe1d400f55b"
      },
      "source": [
        "st.mean(n)"
      ],
      "execution_count": null,
      "outputs": [
        {
          "output_type": "execute_result",
          "data": {
            "text/plain": [
              "8.8"
            ]
          },
          "metadata": {},
          "execution_count": 124
        }
      ]
    },
    {
      "cell_type": "code",
      "metadata": {
        "colab": {
          "base_uri": "https://localhost:8080/"
        },
        "id": "cUe-Qh4c1__C",
        "outputId": "9eb435e3-3341-4011-fdff-16bf7eabc927"
      },
      "source": [
        "st.stdev(n)"
      ],
      "execution_count": null,
      "outputs": [
        {
          "output_type": "execute_result",
          "data": {
            "text/plain": [
              "5.2451035367389185"
            ]
          },
          "metadata": {},
          "execution_count": 125
        }
      ]
    },
    {
      "cell_type": "code",
      "metadata": {
        "colab": {
          "base_uri": "https://localhost:8080/"
        },
        "id": "b2FbjeZY2C9Q",
        "outputId": "7dad24cd-7240-4701-c8ab-4d77ae173b11"
      },
      "source": [
        "st.median(n)"
      ],
      "execution_count": null,
      "outputs": [
        {
          "output_type": "execute_result",
          "data": {
            "text/plain": [
              "8.0"
            ]
          },
          "metadata": {},
          "execution_count": 127
        }
      ]
    },
    {
      "cell_type": "code",
      "metadata": {
        "colab": {
          "base_uri": "https://localhost:8080/"
        },
        "id": "uOuoS5-82FTj",
        "outputId": "6beebd24-afd6-4425-98c6-fda8f5cdde09"
      },
      "source": [
        "st.pvariance(n)"
      ],
      "execution_count": null,
      "outputs": [
        {
          "output_type": "execute_result",
          "data": {
            "text/plain": [
              "24.759999999999998"
            ]
          },
          "metadata": {},
          "execution_count": 128
        }
      ]
    },
    {
      "cell_type": "code",
      "metadata": {
        "id": "3iX0DE_02Zzz"
      },
      "source": [
        ""
      ],
      "execution_count": null,
      "outputs": []
    }
  ]
}